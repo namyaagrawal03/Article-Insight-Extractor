{
  "nbformat": 4,
  "nbformat_minor": 0,
  "metadata": {
    "colab": {
      "provenance": [],
      "include_colab_link": true
    },
    "kernelspec": {
      "name": "python3",
      "display_name": "Python 3"
    },
    "language_info": {
      "name": "python"
    }
  },
  "cells": [
    {
      "cell_type": "markdown",
      "metadata": {
        "id": "view-in-github",
        "colab_type": "text"
      },
      "source": [
        "<a href=\"https://colab.research.google.com/github/namyaagrawal03/Data_Extraction_Analysis/blob/main/BlackCoffer_test_assignment.ipynb\" target=\"_parent\"><img src=\"https://colab.research.google.com/assets/colab-badge.svg\" alt=\"Open In Colab\"/></a>"
      ]
    },
    {
      "cell_type": "code",
      "execution_count": null,
      "metadata": {
        "id": "uNG5DF46a5nZ"
      },
      "outputs": [],
      "source": [
        "import pandas as pd\n",
        "import requests\n",
        "from bs4 import BeautifulSoup\n",
        "import numpy as np"
      ]
    },
    {
      "cell_type": "code",
      "source": [
        "from google.colab import drive\n",
        "drive.mount('/content/drive')"
      ],
      "metadata": {
        "id": "pRsVhYY6SDbZ",
        "colab": {
          "base_uri": "https://localhost:8080/"
        },
        "outputId": "2507b745-fdf5-4f04-a655-0e25f6db3264"
      },
      "execution_count": null,
      "outputs": [
        {
          "output_type": "stream",
          "name": "stdout",
          "text": [
            "Mounted at /content/drive\n"
          ]
        }
      ]
    },
    {
      "cell_type": "code",
      "source": [
        "#importing input file 'Input.xlsx' which was converted to csv\n",
        "df=pd.read_csv('/content/drive/MyDrive/TestAssignment_BlackCoffer/Input.xlsx.csv')[['URL_ID','URL']]"
      ],
      "metadata": {
        "id": "CQ3BGoqjSNrl"
      },
      "execution_count": null,
      "outputs": []
    },
    {
      "cell_type": "code",
      "source": [
        "df"
      ],
      "metadata": {
        "id": "jZ08OifvW-VW",
        "colab": {
          "base_uri": "https://localhost:8080/",
          "height": 423
        },
        "outputId": "97d53295-1020-4129-8903-23249acd4523"
      },
      "execution_count": null,
      "outputs": [
        {
          "output_type": "execute_result",
          "data": {
            "text/plain": [
              "             URL_ID                                                URL\n",
              "0   blackassign0001  https://insights.blackcoffer.com/rising-it-cit...\n",
              "1   blackassign0002  https://insights.blackcoffer.com/rising-it-cit...\n",
              "2   blackassign0003  https://insights.blackcoffer.com/internet-dema...\n",
              "3   blackassign0004  https://insights.blackcoffer.com/rise-of-cyber...\n",
              "4   blackassign0005  https://insights.blackcoffer.com/ott-platform-...\n",
              "..              ...                                                ...\n",
              "95  blackassign0096  https://insights.blackcoffer.com/what-is-the-r...\n",
              "96  blackassign0097  https://insights.blackcoffer.com/impact-of-cov...\n",
              "97  blackassign0098  https://insights.blackcoffer.com/contribution-...\n",
              "98  blackassign0099  https://insights.blackcoffer.com/how-covid-19-...\n",
              "99  blackassign0100  https://insights.blackcoffer.com/how-will-covi...\n",
              "\n",
              "[100 rows x 2 columns]"
            ],
            "text/html": [
              "\n",
              "  <div id=\"df-c3907619-0a75-4bec-8374-040da485002a\" class=\"colab-df-container\">\n",
              "    <div>\n",
              "<style scoped>\n",
              "    .dataframe tbody tr th:only-of-type {\n",
              "        vertical-align: middle;\n",
              "    }\n",
              "\n",
              "    .dataframe tbody tr th {\n",
              "        vertical-align: top;\n",
              "    }\n",
              "\n",
              "    .dataframe thead th {\n",
              "        text-align: right;\n",
              "    }\n",
              "</style>\n",
              "<table border=\"1\" class=\"dataframe\">\n",
              "  <thead>\n",
              "    <tr style=\"text-align: right;\">\n",
              "      <th></th>\n",
              "      <th>URL_ID</th>\n",
              "      <th>URL</th>\n",
              "    </tr>\n",
              "  </thead>\n",
              "  <tbody>\n",
              "    <tr>\n",
              "      <th>0</th>\n",
              "      <td>blackassign0001</td>\n",
              "      <td>https://insights.blackcoffer.com/rising-it-cit...</td>\n",
              "    </tr>\n",
              "    <tr>\n",
              "      <th>1</th>\n",
              "      <td>blackassign0002</td>\n",
              "      <td>https://insights.blackcoffer.com/rising-it-cit...</td>\n",
              "    </tr>\n",
              "    <tr>\n",
              "      <th>2</th>\n",
              "      <td>blackassign0003</td>\n",
              "      <td>https://insights.blackcoffer.com/internet-dema...</td>\n",
              "    </tr>\n",
              "    <tr>\n",
              "      <th>3</th>\n",
              "      <td>blackassign0004</td>\n",
              "      <td>https://insights.blackcoffer.com/rise-of-cyber...</td>\n",
              "    </tr>\n",
              "    <tr>\n",
              "      <th>4</th>\n",
              "      <td>blackassign0005</td>\n",
              "      <td>https://insights.blackcoffer.com/ott-platform-...</td>\n",
              "    </tr>\n",
              "    <tr>\n",
              "      <th>...</th>\n",
              "      <td>...</td>\n",
              "      <td>...</td>\n",
              "    </tr>\n",
              "    <tr>\n",
              "      <th>95</th>\n",
              "      <td>blackassign0096</td>\n",
              "      <td>https://insights.blackcoffer.com/what-is-the-r...</td>\n",
              "    </tr>\n",
              "    <tr>\n",
              "      <th>96</th>\n",
              "      <td>blackassign0097</td>\n",
              "      <td>https://insights.blackcoffer.com/impact-of-cov...</td>\n",
              "    </tr>\n",
              "    <tr>\n",
              "      <th>97</th>\n",
              "      <td>blackassign0098</td>\n",
              "      <td>https://insights.blackcoffer.com/contribution-...</td>\n",
              "    </tr>\n",
              "    <tr>\n",
              "      <th>98</th>\n",
              "      <td>blackassign0099</td>\n",
              "      <td>https://insights.blackcoffer.com/how-covid-19-...</td>\n",
              "    </tr>\n",
              "    <tr>\n",
              "      <th>99</th>\n",
              "      <td>blackassign0100</td>\n",
              "      <td>https://insights.blackcoffer.com/how-will-covi...</td>\n",
              "    </tr>\n",
              "  </tbody>\n",
              "</table>\n",
              "<p>100 rows × 2 columns</p>\n",
              "</div>\n",
              "    <div class=\"colab-df-buttons\">\n",
              "\n",
              "  <div class=\"colab-df-container\">\n",
              "    <button class=\"colab-df-convert\" onclick=\"convertToInteractive('df-c3907619-0a75-4bec-8374-040da485002a')\"\n",
              "            title=\"Convert this dataframe to an interactive table.\"\n",
              "            style=\"display:none;\">\n",
              "\n",
              "  <svg xmlns=\"http://www.w3.org/2000/svg\" height=\"24px\" viewBox=\"0 -960 960 960\">\n",
              "    <path d=\"M120-120v-720h720v720H120Zm60-500h600v-160H180v160Zm220 220h160v-160H400v160Zm0 220h160v-160H400v160ZM180-400h160v-160H180v160Zm440 0h160v-160H620v160ZM180-180h160v-160H180v160Zm440 0h160v-160H620v160Z\"/>\n",
              "  </svg>\n",
              "    </button>\n",
              "\n",
              "  <style>\n",
              "    .colab-df-container {\n",
              "      display:flex;\n",
              "      gap: 12px;\n",
              "    }\n",
              "\n",
              "    .colab-df-convert {\n",
              "      background-color: #E8F0FE;\n",
              "      border: none;\n",
              "      border-radius: 50%;\n",
              "      cursor: pointer;\n",
              "      display: none;\n",
              "      fill: #1967D2;\n",
              "      height: 32px;\n",
              "      padding: 0 0 0 0;\n",
              "      width: 32px;\n",
              "    }\n",
              "\n",
              "    .colab-df-convert:hover {\n",
              "      background-color: #E2EBFA;\n",
              "      box-shadow: 0px 1px 2px rgba(60, 64, 67, 0.3), 0px 1px 3px 1px rgba(60, 64, 67, 0.15);\n",
              "      fill: #174EA6;\n",
              "    }\n",
              "\n",
              "    .colab-df-buttons div {\n",
              "      margin-bottom: 4px;\n",
              "    }\n",
              "\n",
              "    [theme=dark] .colab-df-convert {\n",
              "      background-color: #3B4455;\n",
              "      fill: #D2E3FC;\n",
              "    }\n",
              "\n",
              "    [theme=dark] .colab-df-convert:hover {\n",
              "      background-color: #434B5C;\n",
              "      box-shadow: 0px 1px 3px 1px rgba(0, 0, 0, 0.15);\n",
              "      filter: drop-shadow(0px 1px 2px rgba(0, 0, 0, 0.3));\n",
              "      fill: #FFFFFF;\n",
              "    }\n",
              "  </style>\n",
              "\n",
              "    <script>\n",
              "      const buttonEl =\n",
              "        document.querySelector('#df-c3907619-0a75-4bec-8374-040da485002a button.colab-df-convert');\n",
              "      buttonEl.style.display =\n",
              "        google.colab.kernel.accessAllowed ? 'block' : 'none';\n",
              "\n",
              "      async function convertToInteractive(key) {\n",
              "        const element = document.querySelector('#df-c3907619-0a75-4bec-8374-040da485002a');\n",
              "        const dataTable =\n",
              "          await google.colab.kernel.invokeFunction('convertToInteractive',\n",
              "                                                    [key], {});\n",
              "        if (!dataTable) return;\n",
              "\n",
              "        const docLinkHtml = 'Like what you see? Visit the ' +\n",
              "          '<a target=\"_blank\" href=https://colab.research.google.com/notebooks/data_table.ipynb>data table notebook</a>'\n",
              "          + ' to learn more about interactive tables.';\n",
              "        element.innerHTML = '';\n",
              "        dataTable['output_type'] = 'display_data';\n",
              "        await google.colab.output.renderOutput(dataTable, element);\n",
              "        const docLink = document.createElement('div');\n",
              "        docLink.innerHTML = docLinkHtml;\n",
              "        element.appendChild(docLink);\n",
              "      }\n",
              "    </script>\n",
              "  </div>\n",
              "\n",
              "\n",
              "<div id=\"df-48be4476-d354-4db7-87da-6f0570a0f5db\">\n",
              "  <button class=\"colab-df-quickchart\" onclick=\"quickchart('df-48be4476-d354-4db7-87da-6f0570a0f5db')\"\n",
              "            title=\"Suggest charts\"\n",
              "            style=\"display:none;\">\n",
              "\n",
              "<svg xmlns=\"http://www.w3.org/2000/svg\" height=\"24px\"viewBox=\"0 0 24 24\"\n",
              "     width=\"24px\">\n",
              "    <g>\n",
              "        <path d=\"M19 3H5c-1.1 0-2 .9-2 2v14c0 1.1.9 2 2 2h14c1.1 0 2-.9 2-2V5c0-1.1-.9-2-2-2zM9 17H7v-7h2v7zm4 0h-2V7h2v10zm4 0h-2v-4h2v4z\"/>\n",
              "    </g>\n",
              "</svg>\n",
              "  </button>\n",
              "\n",
              "<style>\n",
              "  .colab-df-quickchart {\n",
              "      --bg-color: #E8F0FE;\n",
              "      --fill-color: #1967D2;\n",
              "      --hover-bg-color: #E2EBFA;\n",
              "      --hover-fill-color: #174EA6;\n",
              "      --disabled-fill-color: #AAA;\n",
              "      --disabled-bg-color: #DDD;\n",
              "  }\n",
              "\n",
              "  [theme=dark] .colab-df-quickchart {\n",
              "      --bg-color: #3B4455;\n",
              "      --fill-color: #D2E3FC;\n",
              "      --hover-bg-color: #434B5C;\n",
              "      --hover-fill-color: #FFFFFF;\n",
              "      --disabled-bg-color: #3B4455;\n",
              "      --disabled-fill-color: #666;\n",
              "  }\n",
              "\n",
              "  .colab-df-quickchart {\n",
              "    background-color: var(--bg-color);\n",
              "    border: none;\n",
              "    border-radius: 50%;\n",
              "    cursor: pointer;\n",
              "    display: none;\n",
              "    fill: var(--fill-color);\n",
              "    height: 32px;\n",
              "    padding: 0;\n",
              "    width: 32px;\n",
              "  }\n",
              "\n",
              "  .colab-df-quickchart:hover {\n",
              "    background-color: var(--hover-bg-color);\n",
              "    box-shadow: 0 1px 2px rgba(60, 64, 67, 0.3), 0 1px 3px 1px rgba(60, 64, 67, 0.15);\n",
              "    fill: var(--button-hover-fill-color);\n",
              "  }\n",
              "\n",
              "  .colab-df-quickchart-complete:disabled,\n",
              "  .colab-df-quickchart-complete:disabled:hover {\n",
              "    background-color: var(--disabled-bg-color);\n",
              "    fill: var(--disabled-fill-color);\n",
              "    box-shadow: none;\n",
              "  }\n",
              "\n",
              "  .colab-df-spinner {\n",
              "    border: 2px solid var(--fill-color);\n",
              "    border-color: transparent;\n",
              "    border-bottom-color: var(--fill-color);\n",
              "    animation:\n",
              "      spin 1s steps(1) infinite;\n",
              "  }\n",
              "\n",
              "  @keyframes spin {\n",
              "    0% {\n",
              "      border-color: transparent;\n",
              "      border-bottom-color: var(--fill-color);\n",
              "      border-left-color: var(--fill-color);\n",
              "    }\n",
              "    20% {\n",
              "      border-color: transparent;\n",
              "      border-left-color: var(--fill-color);\n",
              "      border-top-color: var(--fill-color);\n",
              "    }\n",
              "    30% {\n",
              "      border-color: transparent;\n",
              "      border-left-color: var(--fill-color);\n",
              "      border-top-color: var(--fill-color);\n",
              "      border-right-color: var(--fill-color);\n",
              "    }\n",
              "    40% {\n",
              "      border-color: transparent;\n",
              "      border-right-color: var(--fill-color);\n",
              "      border-top-color: var(--fill-color);\n",
              "    }\n",
              "    60% {\n",
              "      border-color: transparent;\n",
              "      border-right-color: var(--fill-color);\n",
              "    }\n",
              "    80% {\n",
              "      border-color: transparent;\n",
              "      border-right-color: var(--fill-color);\n",
              "      border-bottom-color: var(--fill-color);\n",
              "    }\n",
              "    90% {\n",
              "      border-color: transparent;\n",
              "      border-bottom-color: var(--fill-color);\n",
              "    }\n",
              "  }\n",
              "</style>\n",
              "\n",
              "  <script>\n",
              "    async function quickchart(key) {\n",
              "      const quickchartButtonEl =\n",
              "        document.querySelector('#' + key + ' button');\n",
              "      quickchartButtonEl.disabled = true;  // To prevent multiple clicks.\n",
              "      quickchartButtonEl.classList.add('colab-df-spinner');\n",
              "      try {\n",
              "        const charts = await google.colab.kernel.invokeFunction(\n",
              "            'suggestCharts', [key], {});\n",
              "      } catch (error) {\n",
              "        console.error('Error during call to suggestCharts:', error);\n",
              "      }\n",
              "      quickchartButtonEl.classList.remove('colab-df-spinner');\n",
              "      quickchartButtonEl.classList.add('colab-df-quickchart-complete');\n",
              "    }\n",
              "    (() => {\n",
              "      let quickchartButtonEl =\n",
              "        document.querySelector('#df-48be4476-d354-4db7-87da-6f0570a0f5db button');\n",
              "      quickchartButtonEl.style.display =\n",
              "        google.colab.kernel.accessAllowed ? 'block' : 'none';\n",
              "    })();\n",
              "  </script>\n",
              "</div>\n",
              "\n",
              "  <div id=\"id_23fd0ecd-5afc-494b-9144-8c9787aaf251\">\n",
              "    <style>\n",
              "      .colab-df-generate {\n",
              "        background-color: #E8F0FE;\n",
              "        border: none;\n",
              "        border-radius: 50%;\n",
              "        cursor: pointer;\n",
              "        display: none;\n",
              "        fill: #1967D2;\n",
              "        height: 32px;\n",
              "        padding: 0 0 0 0;\n",
              "        width: 32px;\n",
              "      }\n",
              "\n",
              "      .colab-df-generate:hover {\n",
              "        background-color: #E2EBFA;\n",
              "        box-shadow: 0px 1px 2px rgba(60, 64, 67, 0.3), 0px 1px 3px 1px rgba(60, 64, 67, 0.15);\n",
              "        fill: #174EA6;\n",
              "      }\n",
              "\n",
              "      [theme=dark] .colab-df-generate {\n",
              "        background-color: #3B4455;\n",
              "        fill: #D2E3FC;\n",
              "      }\n",
              "\n",
              "      [theme=dark] .colab-df-generate:hover {\n",
              "        background-color: #434B5C;\n",
              "        box-shadow: 0px 1px 3px 1px rgba(0, 0, 0, 0.15);\n",
              "        filter: drop-shadow(0px 1px 2px rgba(0, 0, 0, 0.3));\n",
              "        fill: #FFFFFF;\n",
              "      }\n",
              "    </style>\n",
              "    <button class=\"colab-df-generate\" onclick=\"generateWithVariable('df')\"\n",
              "            title=\"Generate code using this dataframe.\"\n",
              "            style=\"display:none;\">\n",
              "\n",
              "  <svg xmlns=\"http://www.w3.org/2000/svg\" height=\"24px\"viewBox=\"0 0 24 24\"\n",
              "       width=\"24px\">\n",
              "    <path d=\"M7,19H8.4L18.45,9,17,7.55,7,17.6ZM5,21V16.75L18.45,3.32a2,2,0,0,1,2.83,0l1.4,1.43a1.91,1.91,0,0,1,.58,1.4,1.91,1.91,0,0,1-.58,1.4L9.25,21ZM18.45,9,17,7.55Zm-12,3A5.31,5.31,0,0,0,4.9,8.1,5.31,5.31,0,0,0,1,6.5,5.31,5.31,0,0,0,4.9,4.9,5.31,5.31,0,0,0,6.5,1,5.31,5.31,0,0,0,8.1,4.9,5.31,5.31,0,0,0,12,6.5,5.46,5.46,0,0,0,6.5,12Z\"/>\n",
              "  </svg>\n",
              "    </button>\n",
              "    <script>\n",
              "      (() => {\n",
              "      const buttonEl =\n",
              "        document.querySelector('#id_23fd0ecd-5afc-494b-9144-8c9787aaf251 button.colab-df-generate');\n",
              "      buttonEl.style.display =\n",
              "        google.colab.kernel.accessAllowed ? 'block' : 'none';\n",
              "\n",
              "      buttonEl.onclick = () => {\n",
              "        google.colab.notebook.generateWithVariable('df');\n",
              "      }\n",
              "      })();\n",
              "    </script>\n",
              "  </div>\n",
              "\n",
              "    </div>\n",
              "  </div>\n"
            ]
          },
          "metadata": {},
          "execution_count": 4
        }
      ]
    },
    {
      "cell_type": "code",
      "source": [
        "#the variable url will contain the values from the 'URL' column of df, and the variable url_id will contain the values from the 'URL_ID' column.\n",
        "url=df['URL']\n",
        "url_id=df['URL_ID']"
      ],
      "metadata": {
        "id": "x5MbJMUO95nE"
      },
      "execution_count": null,
      "outputs": []
    },
    {
      "cell_type": "code",
      "source": [
        "df.shape"
      ],
      "metadata": {
        "id": "xsqW7TjyZcgL",
        "colab": {
          "base_uri": "https://localhost:8080/"
        },
        "outputId": "13655611-f5c4-4721-fda2-5bb1bd38ebbe"
      },
      "execution_count": null,
      "outputs": [
        {
          "output_type": "execute_result",
          "data": {
            "text/plain": [
              "(100, 2)"
            ]
          },
          "metadata": {},
          "execution_count": 6
        }
      ]
    },
    {
      "cell_type": "code",
      "source": [
        "df.info()"
      ],
      "metadata": {
        "id": "XAHKtB2vZOHg",
        "colab": {
          "base_uri": "https://localhost:8080/"
        },
        "outputId": "727f0e4a-8178-4031-a526-2cf6adf66e4b"
      },
      "execution_count": null,
      "outputs": [
        {
          "output_type": "stream",
          "name": "stdout",
          "text": [
            "<class 'pandas.core.frame.DataFrame'>\n",
            "RangeIndex: 100 entries, 0 to 99\n",
            "Data columns (total 2 columns):\n",
            " #   Column  Non-Null Count  Dtype \n",
            "---  ------  --------------  ----- \n",
            " 0   URL_ID  100 non-null    object\n",
            " 1   URL     100 non-null    object\n",
            "dtypes: object(2)\n",
            "memory usage: 1.7+ KB\n"
          ]
        }
      ]
    },
    {
      "cell_type": "code",
      "source": [
        "content_list=[]\n",
        "\n",
        "for i in range(0,len(df)):\n",
        "\n",
        "  j=df.iloc[i].values\n",
        "\n",
        "  #giving user access\n",
        "  headers={'User-Agent': 'Mozilla/5.0 (Windows NT 10.0; Win64; x64) AppleWebKit/537.36 (KHTML, like Gecko) Chrome/74.0.3729.169 Safari/537.36'}\n",
        "  page=requests.get(j[1],headers=headers)#loading text in url\n",
        "  soup=BeautifulSoup(page.content,'html.parser')#parsing url text\n",
        "  title = soup.find(attrs={'class': 'entry-title'})\n",
        "  if title:\n",
        "    title = title.text.replace('\\n', '').replace('/', '')\n",
        "  else:\n",
        "    title = \"Untitled\"\n",
        "\n",
        "\n",
        "    # Extracting content and storing in content variable\n",
        "  content = soup.find(attrs={'class': 'td-post-content'})\n",
        "  if content:\n",
        "    content = content.text.replace('\\xa0', ' ').replace('\\n', ' ')\n",
        "    content_list.append(content)\n",
        "\n",
        "  else:\n",
        "    content = \"\"\n",
        "    content_list.append(content)\n",
        "\n",
        "#The title and content are then merged into a single string text, separated by a dot and a space.\n",
        "\n",
        "  text=title+ '. ' +content\n",
        "\n",
        "#storing value of 'URL_ID' since we need it to name the text files\n",
        "  url_id=df.iloc[i]['URL_ID']\n",
        "\n",
        "    # Save to text file with file name url_id\n",
        "\n",
        "  filename='/content/drive/MyDrive/TestAssignment_BlackCoffer/text_data/' +str(url_id)+ '.txt'\n",
        "  with open(filename, 'w') as f:\n",
        "    f.write(text)\n"
      ],
      "metadata": {
        "id": "J11cHn_bMn63"
      },
      "execution_count": null,
      "outputs": []
    },
    {
      "cell_type": "code",
      "source": [
        "#converted to data frame\n",
        "content_df = pd.DataFrame(content_list, columns=['Content'])"
      ],
      "metadata": {
        "id": "NNqy4whGDTQ2"
      },
      "execution_count": null,
      "outputs": []
    },
    {
      "cell_type": "code",
      "source": [
        "content_df.iloc[35]"
      ],
      "metadata": {
        "colab": {
          "base_uri": "https://localhost:8080/"
        },
        "id": "gyAbNLUDTKGQ",
        "outputId": "270ed857-7116-401d-f049-3afdab8de55b"
      },
      "execution_count": null,
      "outputs": [
        {
          "output_type": "execute_result",
          "data": {
            "text/plain": [
              "Content    \n",
              "Name: 35, dtype: object"
            ]
          },
          "metadata": {},
          "execution_count": 44
        }
      ]
    },
    {
      "cell_type": "code",
      "source": [
        "print(content_df)"
      ],
      "metadata": {
        "id": "ile-vR0w2kKh",
        "colab": {
          "base_uri": "https://localhost:8080/"
        },
        "outputId": "9c108da7-ed8d-4943-cba1-f861a610e9c6"
      },
      "execution_count": null,
      "outputs": [
        {
          "output_type": "stream",
          "name": "stdout",
          "text": [
            "                                              Content\n",
            "0    We have seen a huge development and dependenc...\n",
            "1    Throughout history, from the industrial revol...\n",
            "2    Introduction In the span of just a few decade...\n",
            "3    The way we live, work, and communicate has un...\n",
            "4    The year 2040 is poised to witness a continue...\n",
            "..                                                ...\n",
            "95   Epidemics, in general, have both direct and i...\n",
            "96   COVID 19 has bought the world to its knees. W...\n",
            "97   Handicrafts is an art of making crafts by han...\n",
            "98    I would rather pay cash – Before COVID-19. I...\n",
            "99    As business close to help prevent transmissi...\n",
            "\n",
            "[100 rows x 1 columns]\n"
          ]
        }
      ]
    },
    {
      "cell_type": "code",
      "source": [
        "#importing nltk library and stopwords\n",
        "import nltk\n",
        "import string\n",
        "import re"
      ],
      "metadata": {
        "id": "l4WAwQ-2VeEx"
      },
      "execution_count": null,
      "outputs": []
    },
    {
      "cell_type": "code",
      "source": [
        "punc=[punc for punc in string.punctuation]\n",
        "punc"
      ],
      "metadata": {
        "id": "f3CQ5P25WdBt",
        "colab": {
          "base_uri": "https://localhost:8080/"
        },
        "outputId": "a5d02e5d-1c7c-41e6-ed5c-7451f50d6eb0"
      },
      "execution_count": null,
      "outputs": [
        {
          "output_type": "execute_result",
          "data": {
            "text/plain": [
              "['!',\n",
              " '\"',\n",
              " '#',\n",
              " '$',\n",
              " '%',\n",
              " '&',\n",
              " \"'\",\n",
              " '(',\n",
              " ')',\n",
              " '*',\n",
              " '+',\n",
              " ',',\n",
              " '-',\n",
              " '.',\n",
              " '/',\n",
              " ':',\n",
              " ';',\n",
              " '<',\n",
              " '=',\n",
              " '>',\n",
              " '?',\n",
              " '@',\n",
              " '[',\n",
              " '\\\\',\n",
              " ']',\n",
              " '^',\n",
              " '_',\n",
              " '`',\n",
              " '{',\n",
              " '|',\n",
              " '}',\n",
              " '~']"
            ]
          },
          "metadata": {},
          "execution_count": 47
        }
      ]
    },
    {
      "cell_type": "markdown",
      "source": [
        "Cleaning by removing stop"
      ],
      "metadata": {
        "id": "DuZX0fU8iwkE"
      }
    },
    {
      "cell_type": "code",
      "source": [
        "#importing stop words files that are provided\n",
        "StopWords_Auditor=pd.read_csv('/content/drive/MyDrive/TestAssignment_BlackCoffer/StopWords/StopWords_Auditor.txt',header=None)\n",
        "StopWords_Currencies = pd.read_csv(\"/content/drive/MyDrive/TestAssignment_BlackCoffer/StopWords/StopWords_Currencies.txt\", header=None, encoding=\"latin-1\", error_bad_lines=False)\n",
        "StopWords_DatesandNumbers=pd.read_csv(\"/content/drive/MyDrive/TestAssignment_BlackCoffer/StopWords/StopWords_DatesandNumbers.txt\",header=None)\n",
        "StopWords_Generic=pd.read_csv(\"/content/drive/MyDrive/TestAssignment_BlackCoffer/StopWords/StopWords_Generic.txt\",header=None)\n",
        "StopWords_GenericLong=pd.read_csv(\"/content/drive/MyDrive/TestAssignment_BlackCoffer/StopWords/StopWords_GenericLong.txt\",header=None)\n",
        "StopWords_Geographic=pd.read_csv(\"/content/drive/MyDrive/TestAssignment_BlackCoffer/StopWords/StopWords_Geographic.txt\",header=None)\n",
        "StopWords_Names=pd.read_csv(\"/content/drive/MyDrive/TestAssignment_BlackCoffer/StopWords/StopWords_Names.txt\",header=None)\n"
      ],
      "metadata": {
        "id": "IqJd6VDzXHvu",
        "colab": {
          "base_uri": "https://localhost:8080/"
        },
        "outputId": "273ab4b0-b9e0-484e-d1b1-4288f9356c4a"
      },
      "execution_count": null,
      "outputs": [
        {
          "output_type": "stream",
          "name": "stderr",
          "text": [
            "<ipython-input-48-59569e905de9>:3: FutureWarning: The error_bad_lines argument has been deprecated and will be removed in a future version. Use on_bad_lines in the future.\n",
            "\n",
            "\n",
            "  StopWords_Currencies = pd.read_csv(\"/content/drive/MyDrive/TestAssignment_BlackCoffer/StopWords/StopWords_Currencies.txt\", header=None, encoding=\"latin-1\", error_bad_lines=False)\n",
            "Skipping line 83: expected 1 fields, saw 2\n",
            "\n"
          ]
        }
      ]
    },
    {
      "cell_type": "code",
      "source": [
        "# Data Cleaning\n",
        "#creating func for removing stop words and punctuations\n",
        "def text_processing(text):\n",
        "    no_punc =[char for char in text if char not in punc or char not in ['.',':',',','(',')','’','?']]\n",
        "    no_punc=''.join(no_punc)\n",
        "    txt=' '.join([word for word in no_punc.split() if word.lower() not in StopWords_Auditor])\n",
        "    txt1=' '.join([word for word in txt.split() if word.lower() not in StopWords_Currencies])\n",
        "    txt2=' '.join([word for word in txt1.split() if word.lower() not in StopWords_DatesandNumbers])\n",
        "    txt3=' '.join([word for word in txt2.split() if word.lower() not in StopWords_Generic])\n",
        "    txt4=' '.join([word for word in txt3.split() if word.lower() not in StopWords_GenericLong])\n",
        "    txt5=' '.join([word for word in txt4.split() if word.lower() not in StopWords_Geographic])\n",
        "    return ' '.join([word for word in txt5.split() if word.lower() not in StopWords_Names])\n"
      ],
      "metadata": {
        "id": "YoIRjs90Yn3Y"
      },
      "execution_count": null,
      "outputs": []
    },
    {
      "cell_type": "code",
      "source": [
        "#applying func for each row\n",
        "cleaned_text=content_df['Content'].apply(text_processing)"
      ],
      "metadata": {
        "id": "RzHX3JySdAoU"
      },
      "execution_count": null,
      "outputs": []
    },
    {
      "cell_type": "code",
      "source": [
        "#Converting to list\n",
        "cleaned_text=cleaned_text.tolist()"
      ],
      "metadata": {
        "id": "nbO4fYIuGuHM"
      },
      "execution_count": null,
      "outputs": []
    },
    {
      "cell_type": "code",
      "source": [
        "#importing master Dictionary\n",
        "positive=pd.read_csv(\"/content/drive/MyDrive/TestAssignment_BlackCoffer/MasterDictionary/positive-words.txt\",header=None)\n",
        "negative=pd.read_csv(\"/content/drive/MyDrive/TestAssignment_BlackCoffer/MasterDictionary/negative-words.txt\", header=None, encoding=\"latin-1\", error_bad_lines=False)\n"
      ],
      "metadata": {
        "id": "CWgr8Y5idR4D",
        "colab": {
          "base_uri": "https://localhost:8080/"
        },
        "outputId": "b5fdb1cf-22c4-48d2-c8cd-960d9b2331ab"
      },
      "execution_count": null,
      "outputs": [
        {
          "output_type": "stream",
          "name": "stderr",
          "text": [
            "<ipython-input-52-76d1babaa566>:3: FutureWarning: The error_bad_lines argument has been deprecated and will be removed in a future version. Use on_bad_lines in the future.\n",
            "\n",
            "\n",
            "  negative=pd.read_csv(\"/content/drive/MyDrive/TestAssignment_BlackCoffer/MasterDictionary/negative-words.txt\", header=None, encoding=\"latin-1\", error_bad_lines=False)\n"
          ]
        }
      ]
    },
    {
      "cell_type": "code",
      "source": [
        "positive.columns=['abc']\n",
        "negative.columns=['abc']\n",
        "positive['abc']=positive['abc'].astype(str)\n",
        "negative['abc']=negative['abc'].astype(str)"
      ],
      "metadata": {
        "id": "7nYCictedtsf"
      },
      "execution_count": null,
      "outputs": []
    },
    {
      "cell_type": "code",
      "source": [
        "negative"
      ],
      "metadata": {
        "id": "bjGYiV2zjdL-",
        "colab": {
          "base_uri": "https://localhost:8080/",
          "height": 423
        },
        "outputId": "44c6aad5-e79a-4b65-e8f3-3935610a49a1"
      },
      "execution_count": null,
      "outputs": [
        {
          "output_type": "execute_result",
          "data": {
            "text/plain": [
              "             abc\n",
              "0        2-faced\n",
              "1        2-faces\n",
              "2       abnormal\n",
              "3        abolish\n",
              "4     abominable\n",
              "...          ...\n",
              "4778        zaps\n",
              "4779      zealot\n",
              "4780     zealous\n",
              "4781   zealously\n",
              "4782      zombie\n",
              "\n",
              "[4783 rows x 1 columns]"
            ],
            "text/html": [
              "\n",
              "  <div id=\"df-1094394d-89dd-4d33-ba26-187c6fddc359\" class=\"colab-df-container\">\n",
              "    <div>\n",
              "<style scoped>\n",
              "    .dataframe tbody tr th:only-of-type {\n",
              "        vertical-align: middle;\n",
              "    }\n",
              "\n",
              "    .dataframe tbody tr th {\n",
              "        vertical-align: top;\n",
              "    }\n",
              "\n",
              "    .dataframe thead th {\n",
              "        text-align: right;\n",
              "    }\n",
              "</style>\n",
              "<table border=\"1\" class=\"dataframe\">\n",
              "  <thead>\n",
              "    <tr style=\"text-align: right;\">\n",
              "      <th></th>\n",
              "      <th>abc</th>\n",
              "    </tr>\n",
              "  </thead>\n",
              "  <tbody>\n",
              "    <tr>\n",
              "      <th>0</th>\n",
              "      <td>2-faced</td>\n",
              "    </tr>\n",
              "    <tr>\n",
              "      <th>1</th>\n",
              "      <td>2-faces</td>\n",
              "    </tr>\n",
              "    <tr>\n",
              "      <th>2</th>\n",
              "      <td>abnormal</td>\n",
              "    </tr>\n",
              "    <tr>\n",
              "      <th>3</th>\n",
              "      <td>abolish</td>\n",
              "    </tr>\n",
              "    <tr>\n",
              "      <th>4</th>\n",
              "      <td>abominable</td>\n",
              "    </tr>\n",
              "    <tr>\n",
              "      <th>...</th>\n",
              "      <td>...</td>\n",
              "    </tr>\n",
              "    <tr>\n",
              "      <th>4778</th>\n",
              "      <td>zaps</td>\n",
              "    </tr>\n",
              "    <tr>\n",
              "      <th>4779</th>\n",
              "      <td>zealot</td>\n",
              "    </tr>\n",
              "    <tr>\n",
              "      <th>4780</th>\n",
              "      <td>zealous</td>\n",
              "    </tr>\n",
              "    <tr>\n",
              "      <th>4781</th>\n",
              "      <td>zealously</td>\n",
              "    </tr>\n",
              "    <tr>\n",
              "      <th>4782</th>\n",
              "      <td>zombie</td>\n",
              "    </tr>\n",
              "  </tbody>\n",
              "</table>\n",
              "<p>4783 rows × 1 columns</p>\n",
              "</div>\n",
              "    <div class=\"colab-df-buttons\">\n",
              "\n",
              "  <div class=\"colab-df-container\">\n",
              "    <button class=\"colab-df-convert\" onclick=\"convertToInteractive('df-1094394d-89dd-4d33-ba26-187c6fddc359')\"\n",
              "            title=\"Convert this dataframe to an interactive table.\"\n",
              "            style=\"display:none;\">\n",
              "\n",
              "  <svg xmlns=\"http://www.w3.org/2000/svg\" height=\"24px\" viewBox=\"0 -960 960 960\">\n",
              "    <path d=\"M120-120v-720h720v720H120Zm60-500h600v-160H180v160Zm220 220h160v-160H400v160Zm0 220h160v-160H400v160ZM180-400h160v-160H180v160Zm440 0h160v-160H620v160ZM180-180h160v-160H180v160Zm440 0h160v-160H620v160Z\"/>\n",
              "  </svg>\n",
              "    </button>\n",
              "\n",
              "  <style>\n",
              "    .colab-df-container {\n",
              "      display:flex;\n",
              "      gap: 12px;\n",
              "    }\n",
              "\n",
              "    .colab-df-convert {\n",
              "      background-color: #E8F0FE;\n",
              "      border: none;\n",
              "      border-radius: 50%;\n",
              "      cursor: pointer;\n",
              "      display: none;\n",
              "      fill: #1967D2;\n",
              "      height: 32px;\n",
              "      padding: 0 0 0 0;\n",
              "      width: 32px;\n",
              "    }\n",
              "\n",
              "    .colab-df-convert:hover {\n",
              "      background-color: #E2EBFA;\n",
              "      box-shadow: 0px 1px 2px rgba(60, 64, 67, 0.3), 0px 1px 3px 1px rgba(60, 64, 67, 0.15);\n",
              "      fill: #174EA6;\n",
              "    }\n",
              "\n",
              "    .colab-df-buttons div {\n",
              "      margin-bottom: 4px;\n",
              "    }\n",
              "\n",
              "    [theme=dark] .colab-df-convert {\n",
              "      background-color: #3B4455;\n",
              "      fill: #D2E3FC;\n",
              "    }\n",
              "\n",
              "    [theme=dark] .colab-df-convert:hover {\n",
              "      background-color: #434B5C;\n",
              "      box-shadow: 0px 1px 3px 1px rgba(0, 0, 0, 0.15);\n",
              "      filter: drop-shadow(0px 1px 2px rgba(0, 0, 0, 0.3));\n",
              "      fill: #FFFFFF;\n",
              "    }\n",
              "  </style>\n",
              "\n",
              "    <script>\n",
              "      const buttonEl =\n",
              "        document.querySelector('#df-1094394d-89dd-4d33-ba26-187c6fddc359 button.colab-df-convert');\n",
              "      buttonEl.style.display =\n",
              "        google.colab.kernel.accessAllowed ? 'block' : 'none';\n",
              "\n",
              "      async function convertToInteractive(key) {\n",
              "        const element = document.querySelector('#df-1094394d-89dd-4d33-ba26-187c6fddc359');\n",
              "        const dataTable =\n",
              "          await google.colab.kernel.invokeFunction('convertToInteractive',\n",
              "                                                    [key], {});\n",
              "        if (!dataTable) return;\n",
              "\n",
              "        const docLinkHtml = 'Like what you see? Visit the ' +\n",
              "          '<a target=\"_blank\" href=https://colab.research.google.com/notebooks/data_table.ipynb>data table notebook</a>'\n",
              "          + ' to learn more about interactive tables.';\n",
              "        element.innerHTML = '';\n",
              "        dataTable['output_type'] = 'display_data';\n",
              "        await google.colab.output.renderOutput(dataTable, element);\n",
              "        const docLink = document.createElement('div');\n",
              "        docLink.innerHTML = docLinkHtml;\n",
              "        element.appendChild(docLink);\n",
              "      }\n",
              "    </script>\n",
              "  </div>\n",
              "\n",
              "\n",
              "<div id=\"df-507548fa-6773-48a5-bdb1-670dec14bf00\">\n",
              "  <button class=\"colab-df-quickchart\" onclick=\"quickchart('df-507548fa-6773-48a5-bdb1-670dec14bf00')\"\n",
              "            title=\"Suggest charts\"\n",
              "            style=\"display:none;\">\n",
              "\n",
              "<svg xmlns=\"http://www.w3.org/2000/svg\" height=\"24px\"viewBox=\"0 0 24 24\"\n",
              "     width=\"24px\">\n",
              "    <g>\n",
              "        <path d=\"M19 3H5c-1.1 0-2 .9-2 2v14c0 1.1.9 2 2 2h14c1.1 0 2-.9 2-2V5c0-1.1-.9-2-2-2zM9 17H7v-7h2v7zm4 0h-2V7h2v10zm4 0h-2v-4h2v4z\"/>\n",
              "    </g>\n",
              "</svg>\n",
              "  </button>\n",
              "\n",
              "<style>\n",
              "  .colab-df-quickchart {\n",
              "      --bg-color: #E8F0FE;\n",
              "      --fill-color: #1967D2;\n",
              "      --hover-bg-color: #E2EBFA;\n",
              "      --hover-fill-color: #174EA6;\n",
              "      --disabled-fill-color: #AAA;\n",
              "      --disabled-bg-color: #DDD;\n",
              "  }\n",
              "\n",
              "  [theme=dark] .colab-df-quickchart {\n",
              "      --bg-color: #3B4455;\n",
              "      --fill-color: #D2E3FC;\n",
              "      --hover-bg-color: #434B5C;\n",
              "      --hover-fill-color: #FFFFFF;\n",
              "      --disabled-bg-color: #3B4455;\n",
              "      --disabled-fill-color: #666;\n",
              "  }\n",
              "\n",
              "  .colab-df-quickchart {\n",
              "    background-color: var(--bg-color);\n",
              "    border: none;\n",
              "    border-radius: 50%;\n",
              "    cursor: pointer;\n",
              "    display: none;\n",
              "    fill: var(--fill-color);\n",
              "    height: 32px;\n",
              "    padding: 0;\n",
              "    width: 32px;\n",
              "  }\n",
              "\n",
              "  .colab-df-quickchart:hover {\n",
              "    background-color: var(--hover-bg-color);\n",
              "    box-shadow: 0 1px 2px rgba(60, 64, 67, 0.3), 0 1px 3px 1px rgba(60, 64, 67, 0.15);\n",
              "    fill: var(--button-hover-fill-color);\n",
              "  }\n",
              "\n",
              "  .colab-df-quickchart-complete:disabled,\n",
              "  .colab-df-quickchart-complete:disabled:hover {\n",
              "    background-color: var(--disabled-bg-color);\n",
              "    fill: var(--disabled-fill-color);\n",
              "    box-shadow: none;\n",
              "  }\n",
              "\n",
              "  .colab-df-spinner {\n",
              "    border: 2px solid var(--fill-color);\n",
              "    border-color: transparent;\n",
              "    border-bottom-color: var(--fill-color);\n",
              "    animation:\n",
              "      spin 1s steps(1) infinite;\n",
              "  }\n",
              "\n",
              "  @keyframes spin {\n",
              "    0% {\n",
              "      border-color: transparent;\n",
              "      border-bottom-color: var(--fill-color);\n",
              "      border-left-color: var(--fill-color);\n",
              "    }\n",
              "    20% {\n",
              "      border-color: transparent;\n",
              "      border-left-color: var(--fill-color);\n",
              "      border-top-color: var(--fill-color);\n",
              "    }\n",
              "    30% {\n",
              "      border-color: transparent;\n",
              "      border-left-color: var(--fill-color);\n",
              "      border-top-color: var(--fill-color);\n",
              "      border-right-color: var(--fill-color);\n",
              "    }\n",
              "    40% {\n",
              "      border-color: transparent;\n",
              "      border-right-color: var(--fill-color);\n",
              "      border-top-color: var(--fill-color);\n",
              "    }\n",
              "    60% {\n",
              "      border-color: transparent;\n",
              "      border-right-color: var(--fill-color);\n",
              "    }\n",
              "    80% {\n",
              "      border-color: transparent;\n",
              "      border-right-color: var(--fill-color);\n",
              "      border-bottom-color: var(--fill-color);\n",
              "    }\n",
              "    90% {\n",
              "      border-color: transparent;\n",
              "      border-bottom-color: var(--fill-color);\n",
              "    }\n",
              "  }\n",
              "</style>\n",
              "\n",
              "  <script>\n",
              "    async function quickchart(key) {\n",
              "      const quickchartButtonEl =\n",
              "        document.querySelector('#' + key + ' button');\n",
              "      quickchartButtonEl.disabled = true;  // To prevent multiple clicks.\n",
              "      quickchartButtonEl.classList.add('colab-df-spinner');\n",
              "      try {\n",
              "        const charts = await google.colab.kernel.invokeFunction(\n",
              "            'suggestCharts', [key], {});\n",
              "      } catch (error) {\n",
              "        console.error('Error during call to suggestCharts:', error);\n",
              "      }\n",
              "      quickchartButtonEl.classList.remove('colab-df-spinner');\n",
              "      quickchartButtonEl.classList.add('colab-df-quickchart-complete');\n",
              "    }\n",
              "    (() => {\n",
              "      let quickchartButtonEl =\n",
              "        document.querySelector('#df-507548fa-6773-48a5-bdb1-670dec14bf00 button');\n",
              "      quickchartButtonEl.style.display =\n",
              "        google.colab.kernel.accessAllowed ? 'block' : 'none';\n",
              "    })();\n",
              "  </script>\n",
              "</div>\n",
              "\n",
              "  <div id=\"id_970225ff-06f1-4c50-aeda-66ff1d5afe56\">\n",
              "    <style>\n",
              "      .colab-df-generate {\n",
              "        background-color: #E8F0FE;\n",
              "        border: none;\n",
              "        border-radius: 50%;\n",
              "        cursor: pointer;\n",
              "        display: none;\n",
              "        fill: #1967D2;\n",
              "        height: 32px;\n",
              "        padding: 0 0 0 0;\n",
              "        width: 32px;\n",
              "      }\n",
              "\n",
              "      .colab-df-generate:hover {\n",
              "        background-color: #E2EBFA;\n",
              "        box-shadow: 0px 1px 2px rgba(60, 64, 67, 0.3), 0px 1px 3px 1px rgba(60, 64, 67, 0.15);\n",
              "        fill: #174EA6;\n",
              "      }\n",
              "\n",
              "      [theme=dark] .colab-df-generate {\n",
              "        background-color: #3B4455;\n",
              "        fill: #D2E3FC;\n",
              "      }\n",
              "\n",
              "      [theme=dark] .colab-df-generate:hover {\n",
              "        background-color: #434B5C;\n",
              "        box-shadow: 0px 1px 3px 1px rgba(0, 0, 0, 0.15);\n",
              "        filter: drop-shadow(0px 1px 2px rgba(0, 0, 0, 0.3));\n",
              "        fill: #FFFFFF;\n",
              "      }\n",
              "    </style>\n",
              "    <button class=\"colab-df-generate\" onclick=\"generateWithVariable('negative')\"\n",
              "            title=\"Generate code using this dataframe.\"\n",
              "            style=\"display:none;\">\n",
              "\n",
              "  <svg xmlns=\"http://www.w3.org/2000/svg\" height=\"24px\"viewBox=\"0 0 24 24\"\n",
              "       width=\"24px\">\n",
              "    <path d=\"M7,19H8.4L18.45,9,17,7.55,7,17.6ZM5,21V16.75L18.45,3.32a2,2,0,0,1,2.83,0l1.4,1.43a1.91,1.91,0,0,1,.58,1.4,1.91,1.91,0,0,1-.58,1.4L9.25,21ZM18.45,9,17,7.55Zm-12,3A5.31,5.31,0,0,0,4.9,8.1,5.31,5.31,0,0,0,1,6.5,5.31,5.31,0,0,0,4.9,4.9,5.31,5.31,0,0,0,6.5,1,5.31,5.31,0,0,0,8.1,4.9,5.31,5.31,0,0,0,12,6.5,5.46,5.46,0,0,0,6.5,12Z\"/>\n",
              "  </svg>\n",
              "    </button>\n",
              "    <script>\n",
              "      (() => {\n",
              "      const buttonEl =\n",
              "        document.querySelector('#id_970225ff-06f1-4c50-aeda-66ff1d5afe56 button.colab-df-generate');\n",
              "      buttonEl.style.display =\n",
              "        google.colab.kernel.accessAllowed ? 'block' : 'none';\n",
              "\n",
              "      buttonEl.onclick = () => {\n",
              "        google.colab.notebook.generateWithVariable('negative');\n",
              "      }\n",
              "      })();\n",
              "    </script>\n",
              "  </div>\n",
              "\n",
              "    </div>\n",
              "  </div>\n"
            ]
          },
          "metadata": {},
          "execution_count": 54
        }
      ]
    },
    {
      "cell_type": "code",
      "source": [
        "#positive and negative dictionary without stopwords\n",
        "positive['abc']=positive['abc'].apply(text_processing)\n",
        "negative['abc']=negative['abc'].apply(text_processing)"
      ],
      "metadata": {
        "id": "nL6nGClMgZLE"
      },
      "execution_count": null,
      "outputs": []
    },
    {
      "cell_type": "code",
      "source": [
        "#positive list\n",
        "#making a list of positive words , removing the punctuations\n",
        "length=positive.shape[0]\n",
        "post=[]\n",
        "for i in range(0,length):\n",
        "   nopunc =[char for char in positive.iloc[i] if char not in string.punctuation or char != '+']\n",
        "   nopunc=''.join(nopunc)\n",
        "\n",
        "   post.append(nopunc)"
      ],
      "metadata": {
        "id": "zUwQB7tsgbiG"
      },
      "execution_count": null,
      "outputs": []
    },
    {
      "cell_type": "code",
      "source": [
        "#negative list\n",
        "#making a list of negative words , removing the punctuations\n",
        "length=negative.shape[0]\n",
        "neg=[]\n",
        "for i in range(0,length):\n",
        "  nopunc =[char for char in negative.iloc[i] if char not in string.punctuation or char != '+']\n",
        "  nopunc=''.join(nopunc)\n",
        "  neg.append(nopunc)"
      ],
      "metadata": {
        "id": "2k8TOEFlgeuY"
      },
      "execution_count": null,
      "outputs": []
    },
    {
      "cell_type": "code",
      "source": [
        "#importing tokenize library\n",
        "from nltk.tokenize import word_tokenize"
      ],
      "metadata": {
        "id": "hzkIR37UkL2u"
      },
      "execution_count": null,
      "outputs": []
    },
    {
      "cell_type": "code",
      "source": [
        "nltk.download('punkt')"
      ],
      "metadata": {
        "colab": {
          "base_uri": "https://localhost:8080/"
        },
        "id": "azfpecRbkQg-",
        "outputId": "bf71c004-7c1f-458a-c969-12821c86467f"
      },
      "execution_count": null,
      "outputs": [
        {
          "output_type": "stream",
          "name": "stderr",
          "text": [
            "[nltk_data] Downloading package punkt to /root/nltk_data...\n",
            "[nltk_data]   Package punkt is already up-to-date!\n"
          ]
        },
        {
          "output_type": "execute_result",
          "data": {
            "text/plain": [
              "True"
            ]
          },
          "metadata": {},
          "execution_count": 59
        }
      ]
    },
    {
      "cell_type": "code",
      "source": [
        "#function for finding positive score\n",
        "#pass tokenized text\n",
        "def positive_score_compute(text):\n",
        "  positive_score=0\n",
        "  for word in text:\n",
        "    if(word.lower() in post):\n",
        "      positive_score+=1\n",
        "  return positive_score"
      ],
      "metadata": {
        "id": "OfE_a7URiTbH"
      },
      "execution_count": null,
      "outputs": []
    },
    {
      "cell_type": "code",
      "source": [
        "#function for finding negative score\n",
        "#pass tokenized text\n",
        "def negative_score_compute(text):\n",
        "  neg_score=0\n",
        "  for word in text:\n",
        "    if(word.lower() in neg):\n",
        "      neg_score+=1\n",
        "  return neg_score"
      ],
      "metadata": {
        "id": "QiBh1iDpjQAl"
      },
      "execution_count": null,
      "outputs": []
    },
    {
      "cell_type": "code",
      "source": [
        "#Computing Variables\n",
        "\n",
        "positive_scores=[]\n",
        "negative_scores=[]\n",
        "polarity_scores=[]\n",
        "subjectivity_scores=[]\n",
        "\n",
        "\n",
        "for content in cleaned_text:\n",
        "  tokenized_text=word_tokenize(content)\n",
        "\n",
        "    # Compute positive score\n",
        "\n",
        "  positive_score = positive_score_compute(tokenized_text)\n",
        "  positive_scores.append(positive_score)\n",
        "\n",
        "    # Compute negative score\n",
        "  negative_score = negative_score_compute(tokenized_text)\n",
        "  negative_scores.append(negative_score)\n",
        "\n",
        "  #Polarity Score = (Positive Score – Negative Score)/ ((Positive Score + Negative Score) + 0.000001)\n",
        "  polarity_score= (positive_score - negative_score)/((positive_score + negative_score) + 0.000001)\n",
        "  polarity_scores.append(polarity_score)\n",
        "\n",
        "  #Subjectivity Score = (Positive Score + Negative Score)/ ((Total Words after cleaning) + 0.000001)\n",
        "  subjectivity_score= (positive_score + negative_score)/((len(tokenized_text))+ 0.000001)\n",
        "  subjectivity_scores.append(subjectivity_score)\n"
      ],
      "metadata": {
        "id": "JQT_AScWgl8C"
      },
      "execution_count": null,
      "outputs": []
    },
    {
      "cell_type": "code",
      "source": [
        "#function for finding complex word count\n",
        "def complex_word_func(tokenize_text):\n",
        "  vowels = ['a', 'e', 'i', 'o', 'u']\n",
        "  complex_Word_Count = 0\n",
        "\n",
        "  for word in tokenize_text:\n",
        "    # Check if the word ends with 'es' or 'ed'\n",
        "    if re.search(r'(es|ed)$', word.lower()):\n",
        "      continue  # Skip if the word ends with 'es' or 'ed'\n",
        "\n",
        "      # Count the number of vowels in the word\n",
        "    vowel_count = sum(1 for letter in word if letter.lower() in vowels)\n",
        "\n",
        "      # Check if the word is complex (has more than 2 vowels)\n",
        "    if vowel_count > 2:\n",
        "      complex_Word_Count += 1\n",
        "\n",
        "  return complex_Word_Count"
      ],
      "metadata": {
        "id": "FFL9sVeD3XVb"
      },
      "execution_count": null,
      "outputs": []
    },
    {
      "cell_type": "code",
      "source": [
        "#function for finding syllable count per word\n",
        "\n",
        "def syllable_count(tokenize_text):\n",
        "  vowels = ['a', 'e', 'i', 'o', 'u']\n",
        "  count=0\n",
        "  for word in tokenize_text:\n",
        "    # Check if the word ends with 'es' or 'ed'\n",
        "    if re.search(r'(es|ed)$', word.lower()):\n",
        "      continue  # Skip if the word ends with 'es' or 'ed'\n",
        "\n",
        "      # Count the number of vowels in the word\n",
        "    vowel_count = sum(1 for letter in word if letter.lower() in vowels)\n",
        "    count+=vowel_count\n",
        "  syllable_per_word= count/len(tokenize_text)\n",
        "  return syllable_per_word"
      ],
      "metadata": {
        "id": "uRN3jLlw3YuA"
      },
      "execution_count": null,
      "outputs": []
    },
    {
      "cell_type": "code",
      "source": [
        "#function for personal pronouns\n",
        "\n",
        "def count_personal_pronouns(tokenized_text):\n",
        "  count = 0\n",
        "  personal_pronouns = {'i', 'we', 'my', 'ours', 'us'}\n",
        "    # Count occurrences of personal pronouns in the tokenized text\n",
        "  for word in tokenized_text:\n",
        "      # Checking if the word is a personal pronoun and not equal to \"US\"\n",
        "      if word.lower() in personal_pronouns and word != 'US':\n",
        "        count += 1\n",
        "  return count\n",
        "\n"
      ],
      "metadata": {
        "id": "gHfdQxSA3b9w"
      },
      "execution_count": null,
      "outputs": []
    },
    {
      "cell_type": "code",
      "source": [
        "def avg_word_length_func(tokenize_text):\n",
        "    # Calculate total number of characters in all words\n",
        "  total_characters = sum(len(word) for word in tokenize_text)\n",
        "\n",
        "  # Calculate total number of words\n",
        "  total_words = len(tokenize_text)\n",
        "\n",
        "  # Calculate average number of characters per word\n",
        "  if total_words > 0:\n",
        "    average_characters = total_characters / total_words\n",
        "  else:\n",
        "    average_characters = 0  # Avoid division by zero\n",
        "\n",
        "  return average_characters"
      ],
      "metadata": {
        "id": "MJK1Jzm_Q4no"
      },
      "execution_count": null,
      "outputs": []
    },
    {
      "cell_type": "code",
      "source": [
        "#computing variables\n",
        "\n",
        "average_sentence_lengths = []\n",
        "complex_word_percents=[]\n",
        "fog_indexes=[]\n",
        "average_words=[]\n",
        "complex_word_count=[]\n",
        "word_count=[]\n",
        "syllable_per_word=[]\n",
        "personal_pronouns=[]\n",
        "avg_word_lengths=[]\n",
        "\n",
        "for content in content_list:\n",
        "  tokenized_text=word_tokenize(content)\n",
        "\n",
        "  if len(tokenized_text)==0:\n",
        "    average_sentence_length=0\n",
        "    average_sentence_lengths.append(average_sentence_length)\n",
        "\n",
        "    complex_Word_percent =0\n",
        "    complex_word_percents.append(complex_Word_percent)\n",
        "\n",
        "    fog_index = 0\n",
        "    fog_indexes.append(fog_index)\n",
        "\n",
        "    average_word_per_sentence=0\n",
        "    average_words.append(average_word_per_sentence)\n",
        "\n",
        "    complex_word_count.append(0)\n",
        "\n",
        "    count=0\n",
        "    word_count.append(count)\n",
        "\n",
        "    syllable_counts= 0\n",
        "    syllable_per_word.append(syllable_counts)\n",
        "\n",
        "    personal_pronoun_count= 0\n",
        "    personal_pronouns.append(personal_pronoun_count)\n",
        "\n",
        "    avg_w_length=0\n",
        "    avg_word_lengths.append(avg_w_length)\n",
        "\n",
        "  else:\n",
        "  #Average sentence length\n",
        "    sentences = nltk.sent_tokenize(content)\n",
        "    total_words = len(tokenized_text)\n",
        "    total_sentences = len(sentences)\n",
        "    average_sentence_length=total_words / total_sentences\n",
        "    average_sentence_lengths.append(average_sentence_length)\n",
        "\n",
        "    #Percentage of Complex words\n",
        "    complex_Word_Count = complex_word_func(tokenized_text)\n",
        "    complex_Word_percent =complex_Word_Count/len(tokenized_text)\n",
        "    complex_word_percents.append(complex_Word_percent)\n",
        "\n",
        "    #Fog index\n",
        "    fog_index = 0.4 * (average_sentence_length + complex_Word_percent)\n",
        "    fog_indexes.append(fog_index)\n",
        "\n",
        "    #AVG NUMBER OF WORDS PER SENTENCE\n",
        "    average_word_per_sentence=total_words / total_sentences\n",
        "    average_words.append(average_word_per_sentence)\n",
        "\n",
        "    #COMPLEX WORD COUNT\n",
        "    complex_word_count.append(complex_Word_Count)\n",
        "\n",
        "    #WORD COUNT\n",
        "    count=0\n",
        "    cleaned_text=text_processing(content)\n",
        "    for word in cleaned_text:\n",
        "      count=count+1\n",
        "    word_count.append(count)\n",
        "\n",
        "    #Syllable per word\n",
        "    syllable_counts= syllable_count(tokenized_text)\n",
        "    syllable_per_word.append(syllable_counts)\n",
        "\n",
        "    #Personal Pronouns\n",
        "    personal_pronoun_count= count_personal_pronouns(tokenized_text)\n",
        "    personal_pronouns.append(personal_pronoun_count)\n",
        "\n",
        "    #Avg word length\n",
        "    avg_w_length=avg_word_length_func(tokenized_text)\n",
        "    avg_word_lengths.append(avg_w_length)"
      ],
      "metadata": {
        "id": "9N0hm0Hw7Eba"
      },
      "execution_count": null,
      "outputs": []
    },
    {
      "cell_type": "code",
      "source": [
        "#converting to list\n",
        "url_id=df['URL_ID'].tolist()\n",
        "url = df['URL'].tolist()"
      ],
      "metadata": {
        "id": "eEAWxJ__Hcx-"
      },
      "execution_count": null,
      "outputs": []
    },
    {
      "cell_type": "code",
      "source": [
        "data = { 'URL_ID': df['URL_ID'],'URL': df['URL'] , 'POSITIVE SCORE': positive_scores, 'NEGATIVE SCORE': negative_scores , 'POLARITY SCORE': polarity_scores,\n",
        "        'SUBJECTIVITY SCORE': subjectivity_scores, 'AVG SENTENCE LENGTH': average_sentence_lengths, 'PERCENTAGE OF COMPLEX WORDS': complex_word_percents,\n",
        "        'FOG INDEX': fog_indexes, 'AVG NUMBER OF WORDS PER SENTENCE': average_words, 'COMPLEX WORD COUNT': complex_word_percents, 'WORD COUNT': word_count,\n",
        "        'SYLLABLE PER WORD': syllable_per_word, 'PERSONAL PRONOUNS': personal_pronouns, 'AVG WORD LENGTH': avg_word_lengths\n",
        "        }\n",
        "\n",
        "df_variables = pd.DataFrame(data)"
      ],
      "metadata": {
        "id": "yuuigiMwoGfC"
      },
      "execution_count": null,
      "outputs": []
    },
    {
      "cell_type": "code",
      "source": [
        "output_file = '/content/drive/MyDrive/TestAssignment_BlackCoffer/Output.xlsx'\n",
        "df_variables.to_excel(output_file, index=False)\n"
      ],
      "metadata": {
        "id": "ByVb3bRookSz"
      },
      "execution_count": null,
      "outputs": []
    },
    {
      "cell_type": "code",
      "source": [],
      "metadata": {
        "id": "_-ObVrN1rsbi"
      },
      "execution_count": null,
      "outputs": []
    }
  ]
}